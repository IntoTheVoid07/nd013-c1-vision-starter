{
 "cells": [
  {
   "cell_type": "markdown",
   "metadata": {},
   "source": [
    "# Explore the dataset\n",
    "\n",
    "\n",
    "In this notebook, we will perform an EDA (Exploratory Data Analysis) on the processed Waymo dataset (data in the `processed` folder). In the first part, you will create a function to display "
   ]
  },
  {
   "cell_type": "code",
   "execution_count": 1,
   "metadata": {},
   "outputs": [],
   "source": [
    "from utils import get_dataset\n",
    "import glob\n",
    "import copy\n",
    "import matplotlib.pyplot as plt\n",
    "import matplotlib.patches as patches\n",
    "import numpy as np\n",
    "import tensorflow as tf\n",
    "\n",
    "%matplotlib inline"
   ]
  },
  {
   "cell_type": "code",
   "execution_count": 2,
   "metadata": {},
   "outputs": [
    {
     "name": "stdout",
     "output_type": "stream",
     "text": [
      "INFO:tensorflow:Reading unweighted datasets: ['/home/workspace/data/train/*.tfrecord']\n",
      "INFO:tensorflow:Reading record datasets for input file: ['/home/workspace/data/train/*.tfrecord']\n",
      "INFO:tensorflow:Number of filenames to read: 86\n",
      "WARNING:tensorflow:From /data/virtual_envs/sdc-c1-gpu-augment/lib/python3.7/site-packages/object_detection/builders/dataset_builder.py:105: parallel_interleave (from tensorflow.python.data.experimental.ops.interleave_ops) is deprecated and will be removed in a future version.\n",
      "Instructions for updating:\n",
      "Use `tf.data.Dataset.interleave(map_func, cycle_length, block_length, num_parallel_calls=tf.data.experimental.AUTOTUNE)` instead. If sloppy execution is desired, use `tf.data.Options.experimental_deterministic`.\n",
      "WARNING:tensorflow:From /data/virtual_envs/sdc-c1-gpu-augment/lib/python3.7/site-packages/object_detection/builders/dataset_builder.py:237: DatasetV1.map_with_legacy_function (from tensorflow.python.data.ops.dataset_ops) is deprecated and will be removed in a future version.\n",
      "Instructions for updating:\n",
      "Use `tf.data.Dataset.map()\n"
     ]
    }
   ],
   "source": [
    "dataset_glob_path = \"/home/workspace/data/train/*.tfrecord\"\n",
    "dataset = get_dataset(dataset_glob_path)"
   ]
  },
  {
   "cell_type": "markdown",
   "metadata": {},
   "source": [
    "## Write a function to display an image and the bounding boxes\n",
    "\n",
    "Implement the `display_images` function below. This function takes a batch as an input and display an image with its corresponding bounding boxes. The only requirement is that the classes should be color coded (eg, vehicles in red, pedestrians in blue, cyclist in green)."
   ]
  },
  {
   "cell_type": "code",
   "execution_count": null,
   "metadata": {},
   "outputs": [],
   "source": [
    "def display_images(batch):\n",
    "    \"\"\"\n",
    "    This function takes a batch from the dataset and displays the image with \n",
    "    the associated bounding boxes.\n",
    "    \"\"\"\n",
    "    rgb_mapping = { 1: 'red',   # Vehicles\n",
    "                    2: 'green', # Cyclists\n",
    "                    4: 'blue'   # Pedestrians\n",
    "                  }\n",
    "\n",
    "    col, row = 5, 2\n",
    "    _, ax = plt.subplots(col, row, figsize=(36, 36))\n",
    "    for n, batch_data in enumerate(batch):\n",
    "        x = n % col\n",
    "        y = n % row\n",
    "        # Parse out display information\n",
    "        bboxes = batch_data['groundtruth_boxes'].numpy()\n",
    "        classes = batch_data['groundtruth_classes'].numpy()\n",
    "        img = batch_data['image']\n",
    "        img_height, img_width, _ = img.shape\n",
    "\n",
    "        # Display the batch image\n",
    "        ax[x, y].imshow(img)\n",
    "    \n",
    "        # Normalize the bounding boxes to the current image size\n",
    "        normalized_bboxes = copy.deepcopy(bboxes)\n",
    "        normalized_bboxes[:, (0, 2)] = bboxes[:, (0, 2)] * img_height\n",
    "        normalized_bboxes[:, (1, 3)] = bboxes[:, (1, 3)] * img_width\n",
    "\n",
    "        # Draw the bounding box with the correct coloring based on the class\n",
    "        for bb, cl in zip (normalized_bboxes, classes):\n",
    "            y1, x1, y2, x2 = bb\n",
    "            anchor_point = (x1, y1)\n",
    "            bb_w =  x2 - x1\n",
    "            bb_h = y2 - y1\n",
    "            rec = patches.Rectangle(anchor_point, bb_w, bb_h, facecolor='none', edgecolor=rgb_mapping[cl])\n",
    "            ax[x, y].add_patch(rec)\n",
    "        ax[x, y].axis('off')\n",
    "    plt.tight_layout()\n",
    "    plt.show()"
   ]
  },
  {
   "cell_type": "markdown",
   "metadata": {},
   "source": [
    "## Display 10 images \n",
    "\n",
    "Using the dataset created in the second cell and the function you just coded, display 10 random images with the associated bounding boxes. You can use the methods `take` and `shuffle` on the dataset."
   ]
  },
  {
   "cell_type": "code",
   "execution_count": null,
   "metadata": {},
   "outputs": [],
   "source": [
    "# Display 10 random images in dataset\n",
    "rand_dataset = dataset.shuffle(1000)\n",
    "display_images(dataset.take(10))"
   ]
  },
  {
   "cell_type": "markdown",
   "metadata": {},
   "source": [
    "## Additional EDA\n",
    "\n",
    "In this last part, you are free to perform any additional analysis of the dataset. What else would like to know about the data?\n",
    "For example, think about data distribution. So far, you have only looked at a single file..."
   ]
  },
  {
   "cell_type": "code",
   "execution_count": 3,
   "metadata": {},
   "outputs": [
    {
     "data": {
      "image/png": "[encoded data removed]",
      "text/plain": [
       "<Figure size 432x288 with 1 Axes>"
      ]
     },
     "metadata": {
      "needs_background": "light"
     },
     "output_type": "display_data"
    }
   ],
   "source": [
    "def get_occurence_metrics(batch_data):\n",
    "    \"\"\"\n",
    "    This function takes the batch_data from the dataset and creates a distribution\n",
    "    bar plot based on the image classifcation.\n",
    "    \"\"\"\n",
    "    num_occurences = { 1: 0, # Vehicles\n",
    "                       2: 0, # Cyclists\n",
    "                       4: 0  # Pedestrians\n",
    "                     }\n",
    "    class_labels = [(\"r\", \"Vehicles\"), (\"g\", \"Cyclists\"), (\"b\", \"Pedestrians\")]\n",
    "    total_records_num_occurrences = list()\n",
    "    # For each tfrecord, calculate the total number of occurences\n",
    "    for i, batch in enumerate(batch_data):\n",
    "        classes = batch['groundtruth_classes'].numpy()\n",
    "        # Total up the number of occurences per class\n",
    "        for cl in classes:\n",
    "            num_occurences[cl] += 1\n",
    "        # Save off the record's occurences\n",
    "        total_records_num_occurrences.append(num_occurences.copy())\n",
    "        # Reset the number of occurences\n",
    "        for i in num_occurences:\n",
    "            num_occurences[i] = 0\n",
    "    \n",
    "    # Prep the subplots\n",
    "    _, ax = plt.subplots()\n",
    "    num_classes = len(num_occurences)\n",
    "    bar_width = 0.7\n",
    "    # For every record, add a bar for each classification indicating the total number\n",
    "    # of occurrences in an image \n",
    "    for i, occurrence in enumerate(total_records_num_occurrences):\n",
    "        for j, n in enumerate(occurrence):\n",
    "            ax.bar(i + j, occurrence[n], bar_width, color=class_labels[j][0], align=\"edge\")\n",
    "\n",
    "    # Create the plot labels\n",
    "    ax.set_title(\"Occurences per Classification Type\")\n",
    "    ax.set_ylabel(\"Number of Occurences\")\n",
    "    ax.set_xlabel(\"Record file number\")\n",
    "    # Create a pretty legend\n",
    "    handles = [plt.Rectangle((0 , 0), 1, 1, color=l[0]) for l in class_labels]\n",
    "    ax.legend(handles, [label[1] for label in class_labels])\n",
    "    plt.tight_layout()\n",
    "    # Display the results in a bar plot\n",
    "    plt.show()\n",
    "\n",
    "# Draw the occurence metrics bar plot\n",
    "get_occurence_metrics(dataset.take(86))"
   ]
  },
  {
   "cell_type": "code",
   "execution_count": null,
   "metadata": {},
   "outputs": [],
   "source": []
  }
 ],
 "metadata": {
  "kernelspec": {
   "display_name": "Python 3",
   "language": "python",
   "name": "python3"
  },
  "language_info": {
   "codemirror_mode": {
    "name": "ipython",
    "version": 3
   },
   "file_extension": ".py",
   "mimetype": "text/x-python",
   "name": "python",
   "nbconvert_exporter": "python",
   "pygments_lexer": "ipython3",
   "version": "3.7.3"
  }
 },
 "nbformat": 4,
 "nbformat_minor": 4
}
